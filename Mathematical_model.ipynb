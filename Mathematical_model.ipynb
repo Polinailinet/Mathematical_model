{
  "nbformat": 4,
  "nbformat_minor": 0,
  "metadata": {
    "colab": {
      "provenance": []
    },
    "kernelspec": {
      "name": "python3",
      "display_name": "Python 3"
    },
    "language_info": {
      "name": "python"
    }
  },
  "cells": [
    {
      "cell_type": "markdown",
      "source": [
        "У меня есть набор данных о драгоценных камнях. Посторим модель линейной регрессии."
      ],
      "metadata": {
        "id": "-5_gkJghCY-U"
      }
    },
    {
      "cell_type": "code",
      "execution_count": 1,
      "metadata": {
        "id": "q22OCz2d62Vy"
      },
      "outputs": [],
      "source": [
        "#загрузка библиотек\n",
        "from sklearn.model_selection import train_test_split\n",
        "from sklearn.linear_model import LinearRegression\n",
        "from sklearn import metrics\n",
        "from sklearn.preprocessing import LabelEncoder\n",
        "import pandas as pd\n",
        "import numpy as np"
      ]
    },
    {
      "cell_type": "code",
      "source": [
        "try:\n",
        "    df = pd.read_csv('/diamonds.csv', index_col=0 ) #, dtype='str')\n",
        "except:\n",
        "    url = '<https://drive.google.com/drive/u/1/my-drive/diamonds.csv>'\n",
        "    file_path = 'diamonds.csv'\n",
        "    df = pd.read_csv(file_path, sep=',', index_col=0) #, dtype='str')\n",
        "    df"
      ],
      "metadata": {
        "id": "62H05KcK7Blx"
      },
      "execution_count": 2,
      "outputs": []
    },
    {
      "cell_type": "code",
      "source": [
        "# info\n",
        "df.info()"
      ],
      "metadata": {
        "colab": {
          "base_uri": "https://localhost:8080/"
        },
        "id": "RJ6HauD87geQ",
        "outputId": "affab197-8e2a-4cc3-d102-2c4348ed9c14"
      },
      "execution_count": 3,
      "outputs": [
        {
          "output_type": "stream",
          "name": "stdout",
          "text": [
            "<class 'pandas.core.frame.DataFrame'>\n",
            "Float64Index: 53940 entries, 0.23 to 0.75\n",
            "Data columns (total 9 columns):\n",
            " #   Column   Non-Null Count  Dtype  \n",
            "---  ------   --------------  -----  \n",
            " 0   cut      53940 non-null  object \n",
            " 1   color    53940 non-null  object \n",
            " 2   clarity  53940 non-null  object \n",
            " 3   depth    53940 non-null  float64\n",
            " 4   table    53940 non-null  float64\n",
            " 5   price    52284 non-null  float64\n",
            " 6   x        32058 non-null  float64\n",
            " 7   y        53940 non-null  float64\n",
            " 8   z        53940 non-null  float64\n",
            "dtypes: float64(6), object(3)\n",
            "memory usage: 4.1+ MB\n"
          ]
        }
      ]
    },
    {
      "cell_type": "markdown",
      "source": [
        "## Основные сведения:\n",
        "\n",
        "- Большинство данных имеет тип float64 (7 из 9). Остальные имеют тип данных object.\n",
        "\n",
        "`Обозначения полей`:\n",
        "- cut качество (Fair, Good, Very Good, Premium, Ideal)\n",
        "- color цвет J (худший) to D (лучший)\n",
        "- clarity прозрачность (I1 (худшая), SI2, SI1, VS2, VS1, VVS2, VVS1, IF\n",
        "(лучшая))\n",
        "- depth общий процент глубины\n",
        "- table ширина вершины ромба относительно самого широкого места.\n",
        "- price цена\n",
        "-  x длина в мм\n",
        "- y ширина в мм\n",
        "- z глубина в мм\n",
        "\n",
        "- Количество строк : 5390, количество столбцов - 10."
      ],
      "metadata": {
        "id": "kuOSUr7c9jp7"
      }
    },
    {
      "cell_type": "code",
      "source": [
        "# copy\n",
        "final = df.copy(deep = True)"
      ],
      "metadata": {
        "id": "gk6K6BxX9ewS"
      },
      "execution_count": 4,
      "outputs": []
    },
    {
      "cell_type": "markdown",
      "source": [
        "На основе представленных данных целью математической модели  может быть предсказание цены бриллианта (price) на основе его характеристик (цвет, чёткость, глубина, размер стола, размеры x, y, z).\n",
        "\n",
        "Для такой задачи подойдет модель линейной регрессии.\n",
        "Перед её строительством важно обработать данные:\n",
        "\n",
        "- Обработать пропущенные значения (например, заполнить средними значениями).\n",
        "- Преобразовать категориальные признаки в числовые, использовав Label encoding для преобразования признаков \"cut\", \"color\" и \"clarity\" в числовые.\n",
        "- Нормализовать или стандартизировать числовые признаки при необходимости."
      ],
      "metadata": {
        "id": "zKkL5hxhDAJd"
      }
    },
    {
      "cell_type": "code",
      "source": [
        "# подсчет пропусков\n",
        "def nan_values (final):\n",
        "  count_missing = final.isna().sum()\n",
        "  prosent_missing = round(final.isna().sum() * 100 / len(final), 2)\n",
        "\n",
        "  missing_value_fin = pd.DataFrame({'num_missing': count_missing,\n",
        "                                    'prosent_missing': prosent_missing })\n",
        "  return missing_value_fin\n",
        "\n",
        "nan_values (final)"
      ],
      "metadata": {
        "colab": {
          "base_uri": "https://localhost:8080/",
          "height": 332
        },
        "id": "JuFoq7mT9uss",
        "outputId": "07f499fd-e1e8-42dd-f071-cebe32bd3a18"
      },
      "execution_count": 5,
      "outputs": [
        {
          "output_type": "execute_result",
          "data": {
            "text/plain": [
              "         num_missing  prosent_missing\n",
              "cut                0             0.00\n",
              "color              0             0.00\n",
              "clarity            0             0.00\n",
              "depth              0             0.00\n",
              "table              0             0.00\n",
              "price           1656             3.07\n",
              "x              21882            40.57\n",
              "y                  0             0.00\n",
              "z                  0             0.00"
            ],
            "text/html": [
              "\n",
              "  <div id=\"df-990731f9-07cd-4d35-91f7-35c91ba6b535\" class=\"colab-df-container\">\n",
              "    <div>\n",
              "<style scoped>\n",
              "    .dataframe tbody tr th:only-of-type {\n",
              "        vertical-align: middle;\n",
              "    }\n",
              "\n",
              "    .dataframe tbody tr th {\n",
              "        vertical-align: top;\n",
              "    }\n",
              "\n",
              "    .dataframe thead th {\n",
              "        text-align: right;\n",
              "    }\n",
              "</style>\n",
              "<table border=\"1\" class=\"dataframe\">\n",
              "  <thead>\n",
              "    <tr style=\"text-align: right;\">\n",
              "      <th></th>\n",
              "      <th>num_missing</th>\n",
              "      <th>prosent_missing</th>\n",
              "    </tr>\n",
              "  </thead>\n",
              "  <tbody>\n",
              "    <tr>\n",
              "      <th>cut</th>\n",
              "      <td>0</td>\n",
              "      <td>0.00</td>\n",
              "    </tr>\n",
              "    <tr>\n",
              "      <th>color</th>\n",
              "      <td>0</td>\n",
              "      <td>0.00</td>\n",
              "    </tr>\n",
              "    <tr>\n",
              "      <th>clarity</th>\n",
              "      <td>0</td>\n",
              "      <td>0.00</td>\n",
              "    </tr>\n",
              "    <tr>\n",
              "      <th>depth</th>\n",
              "      <td>0</td>\n",
              "      <td>0.00</td>\n",
              "    </tr>\n",
              "    <tr>\n",
              "      <th>table</th>\n",
              "      <td>0</td>\n",
              "      <td>0.00</td>\n",
              "    </tr>\n",
              "    <tr>\n",
              "      <th>price</th>\n",
              "      <td>1656</td>\n",
              "      <td>3.07</td>\n",
              "    </tr>\n",
              "    <tr>\n",
              "      <th>x</th>\n",
              "      <td>21882</td>\n",
              "      <td>40.57</td>\n",
              "    </tr>\n",
              "    <tr>\n",
              "      <th>y</th>\n",
              "      <td>0</td>\n",
              "      <td>0.00</td>\n",
              "    </tr>\n",
              "    <tr>\n",
              "      <th>z</th>\n",
              "      <td>0</td>\n",
              "      <td>0.00</td>\n",
              "    </tr>\n",
              "  </tbody>\n",
              "</table>\n",
              "</div>\n",
              "    <div class=\"colab-df-buttons\">\n",
              "\n",
              "  <div class=\"colab-df-container\">\n",
              "    <button class=\"colab-df-convert\" onclick=\"convertToInteractive('df-990731f9-07cd-4d35-91f7-35c91ba6b535')\"\n",
              "            title=\"Convert this dataframe to an interactive table.\"\n",
              "            style=\"display:none;\">\n",
              "\n",
              "  <svg xmlns=\"http://www.w3.org/2000/svg\" height=\"24px\" viewBox=\"0 -960 960 960\">\n",
              "    <path d=\"M120-120v-720h720v720H120Zm60-500h600v-160H180v160Zm220 220h160v-160H400v160Zm0 220h160v-160H400v160ZM180-400h160v-160H180v160Zm440 0h160v-160H620v160ZM180-180h160v-160H180v160Zm440 0h160v-160H620v160Z\"/>\n",
              "  </svg>\n",
              "    </button>\n",
              "\n",
              "  <style>\n",
              "    .colab-df-container {\n",
              "      display:flex;\n",
              "      gap: 12px;\n",
              "    }\n",
              "\n",
              "    .colab-df-convert {\n",
              "      background-color: #E8F0FE;\n",
              "      border: none;\n",
              "      border-radius: 50%;\n",
              "      cursor: pointer;\n",
              "      display: none;\n",
              "      fill: #1967D2;\n",
              "      height: 32px;\n",
              "      padding: 0 0 0 0;\n",
              "      width: 32px;\n",
              "    }\n",
              "\n",
              "    .colab-df-convert:hover {\n",
              "      background-color: #E2EBFA;\n",
              "      box-shadow: 0px 1px 2px rgba(60, 64, 67, 0.3), 0px 1px 3px 1px rgba(60, 64, 67, 0.15);\n",
              "      fill: #174EA6;\n",
              "    }\n",
              "\n",
              "    .colab-df-buttons div {\n",
              "      margin-bottom: 4px;\n",
              "    }\n",
              "\n",
              "    [theme=dark] .colab-df-convert {\n",
              "      background-color: #3B4455;\n",
              "      fill: #D2E3FC;\n",
              "    }\n",
              "\n",
              "    [theme=dark] .colab-df-convert:hover {\n",
              "      background-color: #434B5C;\n",
              "      box-shadow: 0px 1px 3px 1px rgba(0, 0, 0, 0.15);\n",
              "      filter: drop-shadow(0px 1px 2px rgba(0, 0, 0, 0.3));\n",
              "      fill: #FFFFFF;\n",
              "    }\n",
              "  </style>\n",
              "\n",
              "    <script>\n",
              "      const buttonEl =\n",
              "        document.querySelector('#df-990731f9-07cd-4d35-91f7-35c91ba6b535 button.colab-df-convert');\n",
              "      buttonEl.style.display =\n",
              "        google.colab.kernel.accessAllowed ? 'block' : 'none';\n",
              "\n",
              "      async function convertToInteractive(key) {\n",
              "        const element = document.querySelector('#df-990731f9-07cd-4d35-91f7-35c91ba6b535');\n",
              "        const dataTable =\n",
              "          await google.colab.kernel.invokeFunction('convertToInteractive',\n",
              "                                                    [key], {});\n",
              "        if (!dataTable) return;\n",
              "\n",
              "        const docLinkHtml = 'Like what you see? Visit the ' +\n",
              "          '<a target=\"_blank\" href=https://colab.research.google.com/notebooks/data_table.ipynb>data table notebook</a>'\n",
              "          + ' to learn more about interactive tables.';\n",
              "        element.innerHTML = '';\n",
              "        dataTable['output_type'] = 'display_data';\n",
              "        await google.colab.output.renderOutput(dataTable, element);\n",
              "        const docLink = document.createElement('div');\n",
              "        docLink.innerHTML = docLinkHtml;\n",
              "        element.appendChild(docLink);\n",
              "      }\n",
              "    </script>\n",
              "  </div>\n",
              "\n",
              "\n",
              "<div id=\"df-42a094f2-ed9e-4f7b-bcf5-0835c2aaec52\">\n",
              "  <button class=\"colab-df-quickchart\" onclick=\"quickchart('df-42a094f2-ed9e-4f7b-bcf5-0835c2aaec52')\"\n",
              "            title=\"Suggest charts\"\n",
              "            style=\"display:none;\">\n",
              "\n",
              "<svg xmlns=\"http://www.w3.org/2000/svg\" height=\"24px\"viewBox=\"0 0 24 24\"\n",
              "     width=\"24px\">\n",
              "    <g>\n",
              "        <path d=\"M19 3H5c-1.1 0-2 .9-2 2v14c0 1.1.9 2 2 2h14c1.1 0 2-.9 2-2V5c0-1.1-.9-2-2-2zM9 17H7v-7h2v7zm4 0h-2V7h2v10zm4 0h-2v-4h2v4z\"/>\n",
              "    </g>\n",
              "</svg>\n",
              "  </button>\n",
              "\n",
              "<style>\n",
              "  .colab-df-quickchart {\n",
              "      --bg-color: #E8F0FE;\n",
              "      --fill-color: #1967D2;\n",
              "      --hover-bg-color: #E2EBFA;\n",
              "      --hover-fill-color: #174EA6;\n",
              "      --disabled-fill-color: #AAA;\n",
              "      --disabled-bg-color: #DDD;\n",
              "  }\n",
              "\n",
              "  [theme=dark] .colab-df-quickchart {\n",
              "      --bg-color: #3B4455;\n",
              "      --fill-color: #D2E3FC;\n",
              "      --hover-bg-color: #434B5C;\n",
              "      --hover-fill-color: #FFFFFF;\n",
              "      --disabled-bg-color: #3B4455;\n",
              "      --disabled-fill-color: #666;\n",
              "  }\n",
              "\n",
              "  .colab-df-quickchart {\n",
              "    background-color: var(--bg-color);\n",
              "    border: none;\n",
              "    border-radius: 50%;\n",
              "    cursor: pointer;\n",
              "    display: none;\n",
              "    fill: var(--fill-color);\n",
              "    height: 32px;\n",
              "    padding: 0;\n",
              "    width: 32px;\n",
              "  }\n",
              "\n",
              "  .colab-df-quickchart:hover {\n",
              "    background-color: var(--hover-bg-color);\n",
              "    box-shadow: 0 1px 2px rgba(60, 64, 67, 0.3), 0 1px 3px 1px rgba(60, 64, 67, 0.15);\n",
              "    fill: var(--button-hover-fill-color);\n",
              "  }\n",
              "\n",
              "  .colab-df-quickchart-complete:disabled,\n",
              "  .colab-df-quickchart-complete:disabled:hover {\n",
              "    background-color: var(--disabled-bg-color);\n",
              "    fill: var(--disabled-fill-color);\n",
              "    box-shadow: none;\n",
              "  }\n",
              "\n",
              "  .colab-df-spinner {\n",
              "    border: 2px solid var(--fill-color);\n",
              "    border-color: transparent;\n",
              "    border-bottom-color: var(--fill-color);\n",
              "    animation:\n",
              "      spin 1s steps(1) infinite;\n",
              "  }\n",
              "\n",
              "  @keyframes spin {\n",
              "    0% {\n",
              "      border-color: transparent;\n",
              "      border-bottom-color: var(--fill-color);\n",
              "      border-left-color: var(--fill-color);\n",
              "    }\n",
              "    20% {\n",
              "      border-color: transparent;\n",
              "      border-left-color: var(--fill-color);\n",
              "      border-top-color: var(--fill-color);\n",
              "    }\n",
              "    30% {\n",
              "      border-color: transparent;\n",
              "      border-left-color: var(--fill-color);\n",
              "      border-top-color: var(--fill-color);\n",
              "      border-right-color: var(--fill-color);\n",
              "    }\n",
              "    40% {\n",
              "      border-color: transparent;\n",
              "      border-right-color: var(--fill-color);\n",
              "      border-top-color: var(--fill-color);\n",
              "    }\n",
              "    60% {\n",
              "      border-color: transparent;\n",
              "      border-right-color: var(--fill-color);\n",
              "    }\n",
              "    80% {\n",
              "      border-color: transparent;\n",
              "      border-right-color: var(--fill-color);\n",
              "      border-bottom-color: var(--fill-color);\n",
              "    }\n",
              "    90% {\n",
              "      border-color: transparent;\n",
              "      border-bottom-color: var(--fill-color);\n",
              "    }\n",
              "  }\n",
              "</style>\n",
              "\n",
              "  <script>\n",
              "    async function quickchart(key) {\n",
              "      const quickchartButtonEl =\n",
              "        document.querySelector('#' + key + ' button');\n",
              "      quickchartButtonEl.disabled = true;  // To prevent multiple clicks.\n",
              "      quickchartButtonEl.classList.add('colab-df-spinner');\n",
              "      try {\n",
              "        const charts = await google.colab.kernel.invokeFunction(\n",
              "            'suggestCharts', [key], {});\n",
              "      } catch (error) {\n",
              "        console.error('Error during call to suggestCharts:', error);\n",
              "      }\n",
              "      quickchartButtonEl.classList.remove('colab-df-spinner');\n",
              "      quickchartButtonEl.classList.add('colab-df-quickchart-complete');\n",
              "    }\n",
              "    (() => {\n",
              "      let quickchartButtonEl =\n",
              "        document.querySelector('#df-42a094f2-ed9e-4f7b-bcf5-0835c2aaec52 button');\n",
              "      quickchartButtonEl.style.display =\n",
              "        google.colab.kernel.accessAllowed ? 'block' : 'none';\n",
              "    })();\n",
              "  </script>\n",
              "</div>\n",
              "    </div>\n",
              "  </div>\n"
            ],
            "application/vnd.google.colaboratory.intrinsic+json": {
              "type": "dataframe",
              "summary": "{\n  \"name\": \"nan_values (final)\",\n  \"rows\": 9,\n  \"fields\": [\n    {\n      \"column\": \"num_missing\",\n      \"properties\": {\n        \"dtype\": \"number\",\n        \"std\": 7245,\n        \"min\": 0,\n        \"max\": 21882,\n        \"num_unique_values\": 3,\n        \"samples\": [\n          0,\n          1656,\n          21882\n        ],\n        \"semantic_type\": \"\",\n        \"description\": \"\"\n      }\n    },\n    {\n      \"column\": \"prosent_missing\",\n      \"properties\": {\n        \"dtype\": \"number\",\n        \"std\": 13.433839217108085,\n        \"min\": 0.0,\n        \"max\": 40.57,\n        \"num_unique_values\": 3,\n        \"samples\": [\n          0.0,\n          3.07,\n          40.57\n        ],\n        \"semantic_type\": \"\",\n        \"description\": \"\"\n      }\n    }\n  ]\n}"
            }
          },
          "metadata": {},
          "execution_count": 5
        }
      ]
    },
    {
      "cell_type": "markdown",
      "source": [
        "### Вывод:\n",
        "\n",
        "Мы видим 3% пропусков в цене и 40.57%  в длине."
      ],
      "metadata": {
        "id": "qZu2odLt93Zh"
      }
    },
    {
      "cell_type": "code",
      "source": [
        "# duplicated\n",
        "final.duplicated().sum()"
      ],
      "metadata": {
        "colab": {
          "base_uri": "https://localhost:8080/"
        },
        "id": "Bvbcmd3U9x9t",
        "outputId": "b99efd95-c753-4c5d-fc4c-6b7e7e77d5af"
      },
      "execution_count": 6,
      "outputs": [
        {
          "output_type": "execute_result",
          "data": {
            "text/plain": [
              "161"
            ]
          },
          "metadata": {},
          "execution_count": 6
        }
      ]
    },
    {
      "cell_type": "markdown",
      "source": [
        "**Вывод**\n",
        "\n",
        "Дубликатов не очень много (161 из 53940), но удалять их не стоит, так как можно предположить, что разные схожие алмазы имеют схожие характеристики и можно потерять нужное количество данных."
      ],
      "metadata": {
        "id": "lEv-kxS49-6N"
      }
    },
    {
      "cell_type": "code",
      "source": [
        "# Обработка пропущенных значений\n",
        "final['price'].fillna(final['price'].mean(), inplace=True) # заполняем пропуски средним значением\n",
        "final['x'].fillna(final['x'].mean(), inplace=True)"
      ],
      "metadata": {
        "id": "HzWYxfdeDSb_"
      },
      "execution_count": 7,
      "outputs": []
    },
    {
      "cell_type": "code",
      "source": [
        "# Преобразование категориальных признаков\n",
        "# LabelEncoder - это класс из библиотеки sklearn.preprocessing,\n",
        "#который используется для преобразования категориальных или текстовых данных в числовые.\n",
        "#Это необходимо, потому что большинство машинных алгоритмов предпочитают работать с числовыми данными.\n",
        "# LabelEncoder использует произвольное присвоение чисел категориям, поэтому обычно используется,\n",
        "#когда есть только 2 категории (для бинарной классификации).\n",
        "#Если более двух категорий и порядок присвоения имеет значение, то лучше использовать One-Hot Encoding.\n",
        "encoder = LabelEncoder()\n",
        "final['cut'] = encoder.fit_transform(final['cut'])\n",
        "final['color'] = encoder.fit_transform(final['color'])\n",
        "final['clarity'] = encoder.fit_transform(final['clarity'])\n",
        "\n",
        "# Функция fit_transform() сначала подгоняет модель к данным (то есть, определяет, какие уникальные значения существуют),\n",
        "#затем преобразует эти значения в числовые.\n",
        "#Результат преобразования затем сохраняется обратно в столбец 'cut'.\n",
        "#Таким образом, все значения в столбце 'cut' заменяются соответствующими числовыми значениями."
      ],
      "metadata": {
        "id": "Mwa9LZroH4O8"
      },
      "execution_count": 8,
      "outputs": []
    },
    {
      "cell_type": "code",
      "source": [
        "# Предварительная обработка данных\n",
        "X = final[['cut', 'color', 'clarity', 'depth', 'table', 'x', 'y', 'z']]# имена признаков\n",
        "y = final['price'] # имя целевой переменной\n",
        "# целевая переменная - переменная, которую необходимо объяснить или\n",
        "# значения которой необходимо спрогнозировать в наборе прикладных данных"
      ],
      "metadata": {
        "id": "sS4iKuidIAI6"
      },
      "execution_count": 9,
      "outputs": []
    },
    {
      "cell_type": "code",
      "source": [
        "# Разделение данных на обучающую и тестовую выборки\n",
        "X_train, X_test, y_train, y_test = train_test_split(X, y, test_size=0.2, random_state=0)\n",
        "\n",
        "# Обучение модели\n",
        "model = LinearRegression()\n",
        "model.fit(X_train, y_train)\n",
        "\n",
        "# Предсказание на тестовой выборке\n",
        "y_pred = model.predict(X_test)\n",
        "\n",
        "# Оценка модели\n",
        "print('Mean Absolute Error:', metrics.mean_absolute_error(y_test, y_pred))\n",
        "print('Mean Squared Error:', metrics.mean_squared_error(y_test, y_pred))\n",
        "print('Root Mean Squared Error:', np.sqrt(metrics.mean_squared_error(y_test, y_pred)))"
      ],
      "metadata": {
        "colab": {
          "base_uri": "https://localhost:8080/"
        },
        "id": "id3jjAZgIEcv",
        "outputId": "652c2815-b9e1-4b00-b862-db1a4fa24f1b"
      },
      "execution_count": 10,
      "outputs": [
        {
          "output_type": "stream",
          "name": "stdout",
          "text": [
            "Mean Absolute Error: 1156.598727166698\n",
            "Mean Squared Error: 3202861.9618613524\n",
            "Root Mean Squared Error: 1789.654145878849\n"
          ]
        }
      ]
    },
    {
      "cell_type": "markdown",
      "source": [
        "**Вывод:**\n",
        "\n",
        "Это метрики, которые используются для оценки качества модели регрессии.\n",
        "- Mean Absolute Error (MAE, средняя абсолютная ошибка): это среднее значение абсолютных разностей между истинными и прогнозируемыми значениями. MAE = 1156.6 означает, что в среднем наша модель ошибается на 1156.6 единиц при прогнозировании цены.\n",
        "- Mean Squared Error (MSE, среднеквадратичная ошибка): это среднее значение квадратов разностей между истинными и прогнозируемыми значениями. MSE штрафует большие ошибки сильнее, чем маленькие, так как они возводятся в квадрат.\n",
        "- Root Mean Squared Error (RMSE, квадратный корень из среднеквадратичной ошибки): это квадратный корень из MSE. RMSE = 1789.65 означает, что в среднем наша модель ошибается на 1789.65 единиц при прогнозировании цены."
      ],
      "metadata": {
        "id": "EewyEuh0-NWe"
      }
    },
    {
      "cell_type": "markdown",
      "source": [
        "# Финальный вывод\n",
        "Эти метрики позволяют оценить, насколько хорошо модель предсказывает целевую переменную. Однако они не говорят о том, насколько хорошей или плохой является модель в абсолютном смысле - они полезны в основном для сравнения различных моделей или версий одной и той же модели.\n",
        "\n",
        "\n",
        "Оценка качества модели зависит от контекста и требуемого уровня точности. Средняя абсолютная ошибка (MAE) составляет 1156.6, среднеквадратичная ошибка (MSE) - 3202861.96, а корень из среднеквадратической ошибки (RMSE) - 1789.65. Это значит, что в среднем модель ошибается на 1156.6 или 1789.65 единиц (в зависимости от того, какую метрику мы рассматриваем) при прогнозировании целевой переменной.\n",
        "\n",
        "Чтобы понять, хороша ли модель, нужно сравнить эти значения с некоторым базовым уровнем или бенчмарком.\n",
        "\n",
        "Если, например, целевая переменная варьируется в диапазоне от 0 до 10000, то ошибка в 1156.6 или 1789.65 единиц может быть довольно большой. Однако, если целевая переменная варьируется в диапазоне от 0 до 1000000, то эти ошибки могут быть приемлемыми.\n",
        "\n",
        "\n",
        "Важно помнить, что  MSE и RMSE более чувствительны к большим ошибкам по сравнению с MAE, поскольку они возведены в квадрат перед усреднением.\n",
        "Сравнение моей модели с базовым уровнем или бенчмарком - это способ определить, насколько хорошо моя модель работает в контексте конкретной задачи.\n",
        "\n",
        "\n",
        "*Базовый уровень (Baseline)*: - это решение, которое я получила бы без использования какой-либо модели машинного обучения. Например, при прогнозе продаж, базовым уровнем может быть среднее значение продаж в прошлом.Можно сравнить ошибку моей модели с ошибкой базового уровня, чтобы увидеть, превосходит ли моя модель простое предсказание среднего значения.\n",
        "\n",
        "\n",
        "*Бенчмарк (Benchmark)*: более сложный тип сравнения. Это может быть результат работы другой модели (например, модели, опубликованной в научной статье или результаты других участников на Kaggle). Сравнение моей модели с бенчмарком позволяет увидеть, насколько хорошо моя модель работает по сравнению с другими подходами.\n",
        "\n",
        "\n",
        "При сравнении модели с базовым уровнем или бенчмарком важно использовать ту же метрику ошибки. Если базовый уровень или бенчмарк используют, например, RMSE, то и я должна использовать RMSE для сравнения."
      ],
      "metadata": {
        "id": "APompkjaO3G2"
      }
    }
  ]
}